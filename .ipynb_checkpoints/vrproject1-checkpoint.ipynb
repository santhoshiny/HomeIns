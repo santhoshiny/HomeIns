{
 "cells": [
  {
   "cell_type": "code",
   "execution_count": null,
   "metadata": {},
   "outputs": [],
   "source": [
    "import numpy\n",
    "import cv2\n",
    "import os\n",
    "import moviepy.editor\n",
    "import speech_recognition as sr\n",
    "video1 = moviepy.editor.VideoFileClip(\"Mtjuliethome.mp4\")\n",
    "audio = video1.audio\n",
    "audio.write_audiofile('Mtjuliethome.mp3')\n",
    "cap = cv2.VideoCapture('Mtjuliethome.mp4')  # cv2.VideoCapture(filename) is used to capture the video by giviving the\n",
    "# file name.\n",
    "try:\n",
    "    if not os.path.exists('data'):\n",
    "        os.makedirs('data')\n",
    "except OSError:\n",
    "    print('Error:making directory')\n",
    "currentFrame = 0\n",
    "while (True):\n",
    "    ret, frame = cap.read()\n",
    "    name = './data/frame' + str(currentFrame) + 'jpg'\n",
    "    print('creating.....' + name)\n",
    "    cv2.imwrite(name + '.jpg', frame)\n",
    "    currentFrame += 1\n",
    "cap.release()\n",
    "cv2.destroyAllwindows()\n"
   ]
  },
  {
   "cell_type": "code",
   "execution_count": null,
   "metadata": {},
   "outputs": [],
   "source": []
  }
 ],
 "metadata": {
  "kernelspec": {
   "display_name": "Python 3",
   "language": "python",
   "name": "python3"
  },
  "language_info": {
   "codemirror_mode": {
    "name": "ipython",
    "version": 3
   },
   "file_extension": ".py",
   "mimetype": "text/x-python",
   "name": "python",
   "nbconvert_exporter": "python",
   "pygments_lexer": "ipython3",
   "version": "3.8.2"
  }
 },
 "nbformat": 4,
 "nbformat_minor": 4
}
