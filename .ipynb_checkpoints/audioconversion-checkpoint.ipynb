{
 "cells": [
  {
   "cell_type": "code",
   "execution_count": 1,
   "metadata": {},
   "outputs": [
    {
     "name": "stdout",
     "output_type": "stream",
     "text": [
      "porsche9\n"
     ]
    },
    {
     "ename": "NameError",
     "evalue": "name 'Ferrari9' is not defined",
     "output_type": "error",
     "traceback": [
      "\u001b[1;31m---------------------------------------------------------------------------\u001b[0m",
      "\u001b[1;31mNameError\u001b[0m                                 Traceback (most recent call last)",
      "\u001b[1;32m<ipython-input-1-3fae9d1b85d5>\u001b[0m in \u001b[0;36m<module>\u001b[1;34m\u001b[0m\n\u001b[0;32m     17\u001b[0m \u001b[0mbucket_name\u001b[0m \u001b[1;33m=\u001b[0m \u001b[1;34m'Ferrari9-aws'\u001b[0m\u001b[1;33m\u001b[0m\u001b[1;33m\u001b[0m\u001b[0m\n\u001b[0;32m     18\u001b[0m \u001b[0mclient_s3\u001b[0m \u001b[1;33m=\u001b[0m \u001b[0mboto3\u001b[0m\u001b[1;33m.\u001b[0m\u001b[0mclient\u001b[0m\u001b[1;33m(\u001b[0m\u001b[1;34m's3'\u001b[0m\u001b[1;33m)\u001b[0m\u001b[1;33m\u001b[0m\u001b[1;33m\u001b[0m\u001b[0m\n\u001b[1;32m---> 19\u001b[1;33m \u001b[0mclient_s3\u001b[0m\u001b[1;33m.\u001b[0m\u001b[0mcreate_bucket\u001b[0m\u001b[1;33m(\u001b[0m\u001b[0mBucket\u001b[0m\u001b[1;33m=\u001b[0m\u001b[0mFerrari9\u001b[0m\u001b[1;33m)\u001b[0m\u001b[1;33m\u001b[0m\u001b[1;33m\u001b[0m\u001b[0m\n\u001b[0m",
      "\u001b[1;31mNameError\u001b[0m: name 'Ferrari9' is not defined"
     ]
    }
   ],
   "source": [
    "from __future__ import print_function\n",
    "import boto3,os\n",
    "import time\n",
    "import pandas as pd\n",
    "from datetime import date\n",
    "import json\n",
    "import numpy\n",
    "import cv2\n",
    "import os\n",
    "from botocore.exceptions import ClientError\n",
    "import moviepy.editor\n",
    "import speech_recognition as sr\n",
    "from pydub import AudioSegment\n",
    "s3 = boto3.resource('s3')\n",
    "for bucket in s3.buckets.all():\n",
    "    print(bucket.name)\n",
    "    \n",
    "{\n",
    " \"Version\": \"2012-10-17\",\n",
    " \"Statement\": [\n",
    " {\n",
    " \"Action\": [\n",
    " \"kms:Decrypt\"\n",
    " ],\n",
    " \"Resource\": \"KMS key ARN\",\n",
    " \"Effect\": \"Allow\"\n",
    " }\n",
    " ]\n",
    "}\n",
    "{\n",
    " \"Version\": \"2012-10-17\",\n",
    " \"Statement\": [\n",
    "  {\n",
    " \"Effect\": \"Allow\",\n",
    " \"Action\": [\n",
    " \"https://s3.console.aws.amazon.com/s3/buckets/ferrari9/?region=us-east-1\",\n",
    " ],\n",
    " \"Resource\": \"https://s3.console.aws.amazon.com/s3/buckets/ferrari9/?region=us-east-1\"\n",
    " }\n",
    "  \n",
    " ]\n",
    "  }\n",
    "transcribe = boto3.client('transcribe')\n",
    "job_name = \"conversion\"\n",
    "job_uri = \"https://ferrari9.s3.amazonaws.com/Mtjuliethome.mp4\"\n",
    "\n",
    "\n",
    "transcribe.start_transcription_job(\n",
    "    TranscriptionJobName=job_name,\n",
    "    Media={'MediaFileUri': job_uri},\n",
    "    MediaFormat='mp4',\n",
    "    LanguageCode='en-US',\n",
    "        OutputBucketName=\"ferrari9\")\n",
    "\n",
    "while True:\n",
    "    status = transcribe.get_transcription_job(TranscriptionJobName=job_name)\n",
    "    if status['TranscriptionJob']['TranscriptionJobStatus'] in ['COMPLETED', 'FAILED']:\n",
    "        break\n",
    "    print(\"Not ready yet...\")\n",
    "    time.sleep(5)\n",
    "    print('Transcription finished')\n",
    "return status"
   ]
  },
  {
   "cell_type": "code",
   "execution_count": null,
   "metadata": {},
   "outputs": [],
   "source": []
  }
 ],
 "metadata": {
  "kernelspec": {
   "display_name": "Python 3",
   "language": "python",
   "name": "python3"
  },
  "language_info": {
   "codemirror_mode": {
    "name": "ipython",
    "version": 3
   },
   "file_extension": ".py",
   "mimetype": "text/x-python",
   "name": "python",
   "nbconvert_exporter": "python",
   "pygments_lexer": "ipython3",
   "version": "3.8.2"
  }
 },
 "nbformat": 4,
 "nbformat_minor": 4
}
